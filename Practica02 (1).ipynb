{
  "cells": [
    {
      "cell_type": "markdown",
      "source": [
        "# **Variables y tipos de datos 📦**"
      ],
      "metadata": {
        "id": "jNbwE_UUdaJn"
      },
      "id": "jNbwE_UUdaJn"
    },
    {
      "cell_type": "markdown",
      "source": [
        "### **¿Qué es una variable?**\n",
        "\n",
        "Una variable es un espacio en memoria que usamos para almacenar información; de forma abstracta puedes verla como una “caja” con nombre la cual contiene al dato. Los tipos más conocidos son:\n",
        "\n",
        "<p style=\"text-align:center;\">\n",
        "\n",
        "| Tipo    | Ejemplo          | Descripción                           |\n",
        "| ------- | ---------------- | ------------------------------------- |\n",
        "| `int`   | `10`             | Números enteros                       |\n",
        "| `float` | `3.14`           | Números decimales                     |\n",
        "| `str`   | `\"Hola\"`         | Cadenas de texto                      |\n",
        "</p>\n",
        "\n",
        "En Python no es necesario declarar el tipo de una variable, el intérprete lo deduce automáticamente a partir del valor que le asignas."
      ],
      "metadata": {
        "id": "VvafaGl2r5G0"
      },
      "id": "VvafaGl2r5G0"
    },
    {
      "cell_type": "code",
      "execution_count": 1,
      "metadata": {
        "id": "mxDm6xA_ckqr",
        "colab": {
          "base_uri": "https://localhost:8080/"
        },
        "outputId": "f16f185d-c45f-46e8-e609-c430e088b37c"
      },
      "outputs": [
        {
          "output_type": "stream",
          "name": "stdout",
          "text": [
            "<class 'int'>\n",
            "<class 'float'>\n",
            "<class 'str'>\n"
          ]
        }
      ],
      "source": [
        "entero = 10\n",
        "print(type(entero))\n",
        "flotante = 3.14\n",
        "print(type(flotante))\n",
        "palabra = \"Hola\"\n",
        "print(type(palabra))"
      ],
      "id": "mxDm6xA_ckqr"
    },
    {
      "cell_type": "markdown",
      "id": "04677e67",
      "metadata": {
        "id": "04677e67"
      },
      "source": [
        "# 🐍 Ejercicios de Input y Conversión de Datos en Python\n",
        "\n",
        "Responde directamente en las celdas de código. Cada ejercicio indica lo que debes hacer."
      ]
    },
    {
      "cell_type": "markdown",
      "id": "5261b6c9",
      "metadata": {
        "id": "5261b6c9"
      },
      "source": [
        "### Ejercicio 1: Suma de dos números\n",
        "Pide al usuario dos números y muestra la suma de ambos."
      ]
    },
    {
      "cell_type": "code",
      "execution_count": 3,
      "id": "b747aa21",
      "metadata": {
        "id": "b747aa21",
        "colab": {
          "base_uri": "https://localhost:8080/"
        },
        "outputId": "662079db-b015-4cd7-d874-16f2dc054379"
      },
      "outputs": [
        {
          "output_type": "stream",
          "name": "stdout",
          "text": [
            "dame un numero6\n",
            "dame otro numero6\n",
            "12\n"
          ]
        }
      ],
      "source": [
        "var1=int(input(\"dame un numero\"))\n",
        "var2=int(input(\"dame otro numero\"))\n",
        "print(var1+var2)\n"
      ]
    },
    {
      "cell_type": "markdown",
      "id": "259eb526",
      "metadata": {
        "id": "259eb526"
      },
      "source": [
        "### Ejercicio 2: Edad el próximo año\n",
        "Pide al usuario su edad y muestra cuántos años tendrá el próximo año."
      ]
    },
    {
      "cell_type": "code",
      "execution_count": 6,
      "id": "be875d20",
      "metadata": {
        "id": "be875d20",
        "colab": {
          "base_uri": "https://localhost:8080/"
        },
        "outputId": "b2abcb9c-13ac-4165-add5-996645a67ef3"
      },
      "outputs": [
        {
          "output_type": "stream",
          "name": "stdout",
          "text": [
            "pon tu edad15\n",
            "16\n"
          ]
        }
      ],
      "source": [
        "var1=int(input(\"pon tu edad\"))\n",
        "var2=int(1)\n",
        "print(var1+var2)\n"
      ]
    },
    {
      "cell_type": "markdown",
      "id": "500d1025",
      "metadata": {
        "id": "500d1025"
      },
      "source": [
        "### Ejercicio 3: Nombre completo\n",
        "Pide al usuario su nombre y apellido, y muestra el nombre completo."
      ]
    },
    {
      "cell_type": "code",
      "execution_count": 13,
      "id": "09d23768",
      "metadata": {
        "id": "09d23768",
        "colab": {
          "base_uri": "https://localhost:8080/"
        },
        "outputId": "390ee8a1-c4ff-4a5a-c1d3-c57ea1e2d7c9"
      },
      "outputs": [
        {
          "name": "stdout",
          "output_type": "stream",
          "text": [
            "NOMBREjesus\n",
            "APELLIDOzarco\n"
          ]
        }
      ],
      "source": [
        "var1=(input(\"NOMBRE\"))\n",
        "var2=(input(\"APELLIDO\"))\n",
        "print=(var1+var2)"
      ]
    },
    {
      "cell_type": "markdown",
      "id": "264da48a",
      "metadata": {
        "id": "264da48a"
      },
      "source": [
        "### Ejercicio 4: Calcular precio total\n",
        "Pide al usuario el precio de un producto y la cantidad que va a comprar, luego muestra el total a pagar."
      ]
    },
    {
      "cell_type": "code",
      "execution_count": 16,
      "id": "4bb9c723",
      "metadata": {
        "id": "4bb9c723",
        "colab": {
          "base_uri": "https://localhost:8080/"
        },
        "outputId": "0e20763d-c0c1-4ccd-e074-8582d6e800cd"
      },
      "outputs": [
        {
          "name": "stdout",
          "output_type": "stream",
          "text": [
            "precio del poducto   10\n",
            "cantidad a compra  2\n"
          ]
        }
      ],
      "source": [
        "var1=int(input(\"precio del poducto\"))\n",
        "var2=int(input(\"cantidad a compra\"))\n",
        "print=(var1+var2)\n"
      ]
    },
    {
      "cell_type": "markdown",
      "id": "5bb95243",
      "metadata": {
        "id": "5bb95243"
      },
      "source": [
        "### Ejercicio 5: Convertir minutos a segundos\n",
        "Pide al usuario una cantidad de minutos y muestra cuántos segundos equivalen."
      ]
    },
    {
      "cell_type": "code",
      "execution_count": 19,
      "id": "8be4e619",
      "metadata": {
        "id": "8be4e619",
        "colab": {
          "base_uri": "https://localhost:8080/"
        },
        "outputId": "69f351d0-8044-4553-c219-f03158b26cd0"
      },
      "outputs": [
        {
          "name": "stdout",
          "output_type": "stream",
          "text": [
            "minutos 12\n"
          ]
        }
      ],
      "source": [
        "var1=int(input(\"minutos\"))\n",
        "var2=int(60)\n",
        "print=(var1*var2)"
      ]
    }
  ],
  "metadata": {
    "colab": {
      "provenance": [],
      "collapsed_sections": [
        "jNbwE_UUdaJn",
        "VvafaGl2r5G0"
      ]
    },
    "language_info": {
      "name": "python"
    },
    "kernelspec": {
      "name": "python3",
      "display_name": "Python 3"
    }
  },
  "nbformat": 4,
  "nbformat_minor": 5
}